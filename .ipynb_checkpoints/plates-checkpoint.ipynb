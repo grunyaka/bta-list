{
 "cells": [
  {
   "cell_type": "code",
   "execution_count": 1,
   "metadata": {},
   "outputs": [
    {
     "name": "stderr",
     "output_type": "stream",
     "text": [
      "WARNING: WrongDBMModuleWarning: Existing astropy cache is in an unsupported format, either install the appropriate package or use astropy.utils.data.clear_download_cache() to delete the whole cache; db type is dbm.gnu, but the module is not available [astropy.utils.data]\n",
      "WARNING: leap-second auto-update failed due to the following exception: WrongDBMModule('Existing astropy cache is in an unsupported format, either install the appropriate package or use astropy.utils.data.clear_download_cache() to delete the whole cache; db type is dbm.gnu, but the module is not available') [astropy.time.core]\n"
     ]
    }
   ],
   "source": [
    "import pandas as pd\n",
    "from astropy import units as u\n",
    "from astropy.coordinates import SkyCoord"
   ]
  },
  {
   "cell_type": "code",
   "execution_count": 2,
   "metadata": {},
   "outputs": [],
   "source": [
    "ea = pd.read_table('ea.txt', sep='|')\n",
    "ea = ea.rename(columns={a:a.strip() for a in list(ea.columns)})\n",
    "p26 = pd.read_table('p26.txt', sep='|')\n",
    "p26 = p26.rename(columns={a:a.strip() for a in list(p26.columns)})\n",
    "pna = pd.read_table('pna.txt', sep='|')\n",
    "pna = pna.rename(columns={a:a.strip() for a in list(pna.columns)})"
   ]
  },
  {
   "cell_type": "code",
   "execution_count": 4,
   "metadata": {},
   "outputs": [
    {
     "data": {
      "text/plain": [
       "Index(['#  plateID', 'yymmdd', 'JD', 'ra[hms]', 'dec[dms]', 'ra[deg]',\n",
       "       'dec[deg]', 'LST_b', 'LST_e', 'UTC_b', 'UTC_e', 'JD_b', 'JD_e'],\n",
       "      dtype='object')"
      ]
     },
     "execution_count": 4,
     "metadata": {},
     "output_type": "execute_result"
    }
   ],
   "source": [
    "ea.columns"
   ]
  },
  {
   "cell_type": "code",
   "execution_count": 57,
   "metadata": {},
   "outputs": [],
   "source": [
    "pna_plates = ['PNA_06293',\n",
    " 'PNA_06329',\n",
    " 'PNA_13695',\n",
    " 'PNA_13696',\n",
    " 'PNA_K0676',\n",
    " 'PNA_D0077',\n",
    " 'PNA_D0253',\n",
    " 'PNA_D0497',\n",
    " 'PNA_04929',\n",
    " 'PNA_05052',\n",
    " 'PNA_05259',\n",
    " 'PNA_05807',\n",
    " 'PNA_05881',\n",
    " 'PNA_10041',\n",
    " 'PNA_10063',\n",
    " 'PNA_10752',\n",
    " 'PNA_12962']"
   ]
  },
  {
   "cell_type": "code",
   "execution_count": 79,
   "metadata": {},
   "outputs": [
    {
     "data": {
      "text/plain": [
       "['PNA_06293\\n',\n",
       " 'PNA_06329\\n',\n",
       " 'PNA_13695\\n',\n",
       " 'PNA_13696\\n',\n",
       " 'PNA_K0676\\n',\n",
       " 'PNA_D0077\\n',\n",
       " 'PNA_D0253\\n',\n",
       " 'PNA_D0497\\n',\n",
       " 'PNA_04929\\n',\n",
       " 'PNA_05052\\n',\n",
       " 'PNA_05259\\n',\n",
       " 'PNA_05807\\n',\n",
       " 'PNA_05881\\n',\n",
       " 'PNA_10041\\n',\n",
       " 'PNA_10063\\n',\n",
       " 'PNA_10752\\n',\n",
       " 'PNA_12962\\n',\n",
       " 'PNA_13414\\n',\n",
       " 'PNA_08466\\n',\n",
       " 'PNA_08498\\n',\n",
       " 'PNA_08471\\n',\n",
       " 'PNA_08507\\n']"
      ]
     },
     "execution_count": 79,
     "metadata": {},
     "output_type": "execute_result"
    }
   ],
   "source": [
    "with open('plates_n.txt', 'r') as f:\n",
    "    plates = f.readlines()\n",
    "plates\n",
    "    "
   ]
  },
  {
   "cell_type": "code",
   "execution_count": 87,
   "metadata": {},
   "outputs": [
    {
     "name": "stdout",
     "output_type": "stream",
     "text": [
      "PNA_06293\n",
      "\n",
      "PNA_06329\n",
      "\n",
      "PNA_13695\n",
      "\n",
      "PNA_13696\n",
      "\n",
      "PNA_K0676\n",
      "\n",
      "PNA_D0077\n",
      "\n",
      "PNA_D0253\n",
      "\n",
      "PNA_D0497\n",
      "\n",
      "PNA_04929\n",
      "\n",
      "PNA_05052\n",
      "\n",
      "PNA_05259\n",
      "\n",
      "PNA_05807\n",
      "\n",
      "PNA_05881\n",
      "\n",
      "PNA_10041\n",
      "\n",
      "PNA_10063\n",
      "\n",
      "PNA_10752\n",
      "\n",
      "PNA_12962\n",
      "\n",
      "PNA_13414\n",
      "\n",
      "PNA_08466\n",
      "\n",
      "PNA_08498\n",
      "\n",
      "PNA_08471\n",
      "\n",
      "PNA_08507\n",
      "\n"
     ]
    }
   ],
   "source": [
    "pna_plates = []\n",
    "for line in plates:\n",
    "    print(line[:])"
   ]
  },
  {
   "cell_type": "code",
   "execution_count": 75,
   "metadata": {},
   "outputs": [
    {
     "name": "stdout",
     "output_type": "stream",
     "text": [
      " PNA_08658  1968-03-01  11:57:08.10  +17:24:21.9\n"
     ]
    }
   ],
   "source": [
    "\n",
    "\n",
    "\n",
    "number = '08658'\n",
    "\n",
    "\n",
    "\n",
    "df = pna\n",
    "for i, row in df.iterrows():\n",
    "    if number in row['#  plateID']:\n",
    "        print(row['#  plateID'], row['yymmdd'], row['ra[hms]'], row['dec[dms]'] )\n",
    "        #print(row)"
   ]
  },
  {
   "cell_type": "code",
   "execution_count": 74,
   "metadata": {},
   "outputs": [
    {
     "data": {
      "text/plain": [
       "'PNA_08507'"
      ]
     },
     "execution_count": 74,
     "metadata": {},
     "output_type": "execute_result"
    }
   ],
   "source": [
    "pna_plates.append('PNA_'+number)\n",
    "pna_plates\n",
    "with open('plates_n.txt', 'a') as f:\n",
    "    f.write('PNA_'+number+'\\n')\n",
    "pna_plates[-1]"
   ]
  },
  {
   "cell_type": "code",
   "execution_count": 43,
   "metadata": {},
   "outputs": [],
   "source": []
  },
  {
   "cell_type": "code",
   "execution_count": null,
   "metadata": {},
   "outputs": [],
   "source": []
  }
 ],
 "metadata": {
  "kernelspec": {
   "display_name": "Python 3",
   "language": "python",
   "name": "python3"
  },
  "language_info": {
   "codemirror_mode": {
    "name": "ipython",
    "version": 3
   },
   "file_extension": ".py",
   "mimetype": "text/x-python",
   "name": "python",
   "nbconvert_exporter": "python",
   "pygments_lexer": "ipython3",
   "version": "3.8.3"
  },
  "varInspector": {
   "cols": {
    "lenName": 16,
    "lenType": 16,
    "lenVar": 40
   },
   "kernels_config": {
    "python": {
     "delete_cmd_postfix": "",
     "delete_cmd_prefix": "del ",
     "library": "var_list.py",
     "varRefreshCmd": "print(var_dic_list())"
    },
    "r": {
     "delete_cmd_postfix": ") ",
     "delete_cmd_prefix": "rm(",
     "library": "var_list.r",
     "varRefreshCmd": "cat(var_dic_list()) "
    }
   },
   "types_to_exclude": [
    "module",
    "function",
    "builtin_function_or_method",
    "instance",
    "_Feature"
   ],
   "window_display": false
  }
 },
 "nbformat": 4,
 "nbformat_minor": 4
}
