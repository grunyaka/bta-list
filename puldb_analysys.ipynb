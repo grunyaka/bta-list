{
 "cells": [
  {
   "cell_type": "code",
   "execution_count": null,
   "metadata": {},
   "outputs": [],
   "source": [
    "import pandas as pd\n",
    "from astropy import units as u\n",
    "from astropy.coordinates import SkyCoord"
   ]
  },
  {
   "cell_type": "code",
   "execution_count": null,
   "metadata": {},
   "outputs": [],
   "source": [
    "ea = pd.read_table('ea.txt', sep='|')\n",
    "ea = ea.rename(columns={a:a.strip() for a in list(ea.columns)})"
   ]
  },
  {
   "cell_type": "code",
   "execution_count": null,
   "metadata": {},
   "outputs": [],
   "source": [
    "p26 = pd.read_table('p26.txt', sep='|')\n",
    "p26 = p26.rename(columns={a:a.strip() for a in list(p26.columns)})"
   ]
  },
  {
   "cell_type": "code",
   "execution_count": null,
   "metadata": {},
   "outputs": [],
   "source": [
    "pna = pd.read_table('pna.txt', sep='|')\n",
    "pna = pna.rename(columns={a:a.strip() for a in list(pna.columns)})"
   ]
  },
  {
   "cell_type": "code",
   "execution_count": null,
   "metadata": {},
   "outputs": [],
   "source": [
    "ea.columns"
   ]
  },
  {
   "cell_type": "code",
   "execution_count": null,
   "metadata": {},
   "outputs": [],
   "source": [
    "eanames = [name.strip() for name in list(ea['#  plateID'])]\n",
    "p26names = [name.strip() for name in list(p26['#  plateID'])]\n",
    "pnanames = [name.strip() for name in list(pna['#  plateID'])]\n",
    "names = eanames + p26names + pnanames\n",
    "len(names)"
   ]
  },
  {
   "cell_type": "code",
   "execution_count": null,
   "metadata": {},
   "outputs": [],
   "source": [
    "for name in eanames:\n",
    "    if not name[2] in '0123456789':\n",
    "        print(name)"
   ]
  },
  {
   "cell_type": "code",
   "execution_count": null,
   "metadata": {},
   "outputs": [],
   "source": [
    "for name in p26names:\n",
    "    if len(name) > 4:\n",
    "        if not name[4] in '0123456789':\n",
    "            print(name)"
   ]
  },
  {
   "cell_type": "code",
   "execution_count": null,
   "metadata": {},
   "outputs": [],
   "source": [
    "print('PNA--------')\n",
    "\n",
    "namelist = pnanames\n",
    "\n",
    "for name in namelist:\n",
    "    if len(name) == 9 :\n",
    "        ans = True\n",
    "        for l in name[4:]:\n",
    "            if not l in '0123456789':\n",
    "                ans = False\n",
    "        if ans:\n",
    "            print(name)\n",
    "            break\n",
    "\n",
    "for name in namelist:\n",
    "    if len(name) > 4:\n",
    "        if name[4] == 'A':\n",
    "            print(name)\n",
    "            break\n",
    "for name in namelist:\n",
    "    if len(name) > 5:\n",
    "        if name[4:6] == 'B0':\n",
    "            print(name)\n",
    "            break\n",
    "for name in namelist:\n",
    "    if len(name) > 4:\n",
    "        if name[4] == 'C':\n",
    "            print(name)\n",
    "            break\n",
    "for name in namelist:\n",
    "    if len(name) > 4:\n",
    "        if name[4] == 'D':\n",
    "            print(name)\n",
    "            break\n",
    "for name in namelist:\n",
    "    if len(name) > 4:\n",
    "        if name[4] == 'K':\n",
    "            print(name)\n",
    "            break\n",
    "for name in namelist:\n",
    "    if len(name) > 4:\n",
    "        if name[4] == 'V':\n",
    "            print(name)\n",
    "            break\n",
    "print('-----------')\n",
    "for name in namelist:\n",
    "    if not len(name) == 9:\n",
    "        print(name)\n",
    "        print('len: ', len(name))\n",
    "        print('-----------')\n",
    "    elif not name[4] in '01234567890ACDKV':\n",
    "        if not  name[4:6] == 'B0':\n",
    "            print(name)\n",
    "            print('len: ', len(name))\n",
    "            print('-----------')\n",
    "    else:\n",
    "        for l in name[5:]:\n",
    "            if not l in '0123456789':\n",
    "                print(name)\n",
    "                print('len: ', len(name))\n",
    "                print('-----------')"
   ]
  },
  {
   "cell_type": "code",
   "execution_count": null,
   "metadata": {},
   "outputs": [],
   "source": [
    "print('P26--------')\n",
    "\n",
    "namelist = p26names\n",
    "\n",
    "for name in namelist:\n",
    "    if len(name) == 9 :\n",
    "        ans = True\n",
    "        for l in name[4:]:\n",
    "            if not l in '0123456789':\n",
    "                ans = False\n",
    "        if ans:\n",
    "            print(name)\n",
    "            break\n",
    "            \n",
    "print('-----------')\n",
    "for name in namelist:\n",
    "    if not len(name) == 9:\n",
    "        print(name)\n",
    "        print('len: ', len(name))\n",
    "        print('-----------')\n",
    "    else:\n",
    "        for l in name[4:]:\n",
    "            if not l in '0123456789':\n",
    "                print(name)\n",
    "                print('len: ', len(name))\n",
    "                print('-----------')"
   ]
  },
  {
   "cell_type": "code",
   "execution_count": null,
   "metadata": {},
   "outputs": [],
   "source": [
    "print('EA--------')\n",
    "for name in eanames:\n",
    "    if not len(name) == 7:\n",
    "        print(name)\n",
    "        print('len: ', len(name))\n",
    "        print('-----------')"
   ]
  },
  {
   "cell_type": "code",
   "execution_count": null,
   "metadata": {},
   "outputs": [],
   "source": [
    "print('EA--------')\n",
    "\n",
    "namelist = eanames\n",
    "\n",
    "for name in namelist:\n",
    "    if len(name) == 7 :\n",
    "        print(name)\n",
    "        break\n",
    "            \n",
    "print('-----------')\n",
    "for name in namelist:\n",
    "    if not len(name) == 7:\n",
    "        print(name)\n",
    "        print('len: ', len(name))\n",
    "        print('-----------')\n",
    "    else:\n",
    "        for l in name[2:]:\n",
    "            if not l in '0123456789':\n",
    "                print(name)\n",
    "                print('len: ', len(name))\n",
    "                print('-----------')"
   ]
  },
  {
   "cell_type": "code",
   "execution_count": null,
   "metadata": {},
   "outputs": [],
   "source": []
  }
 ],
 "metadata": {
  "kernelspec": {
   "display_name": "Python 3",
   "language": "python",
   "name": "python3"
  },
  "language_info": {
   "codemirror_mode": {
    "name": "ipython",
    "version": 3
   },
   "file_extension": ".py",
   "mimetype": "text/x-python",
   "name": "python",
   "nbconvert_exporter": "python",
   "pygments_lexer": "ipython3",
   "version": "3.8.3"
  },
  "varInspector": {
   "cols": {
    "lenName": 16,
    "lenType": 16,
    "lenVar": 40
   },
   "kernels_config": {
    "python": {
     "delete_cmd_postfix": "",
     "delete_cmd_prefix": "del ",
     "library": "var_list.py",
     "varRefreshCmd": "print(var_dic_list())"
    },
    "r": {
     "delete_cmd_postfix": ") ",
     "delete_cmd_prefix": "rm(",
     "library": "var_list.r",
     "varRefreshCmd": "cat(var_dic_list()) "
    }
   },
   "types_to_exclude": [
    "module",
    "function",
    "builtin_function_or_method",
    "instance",
    "_Feature"
   ],
   "window_display": false
  }
 },
 "nbformat": 4,
 "nbformat_minor": 4
}
