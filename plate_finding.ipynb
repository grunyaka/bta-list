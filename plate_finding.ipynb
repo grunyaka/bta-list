{
 "cells": [
  {
   "cell_type": "code",
   "execution_count": null,
   "metadata": {},
   "outputs": [],
   "source": [
    "import pandas as pd\n",
    "from astropy import units as u\n",
    "from astropy.coordinates import SkyCoord"
   ]
  },
  {
   "cell_type": "code",
   "execution_count": null,
   "metadata": {},
   "outputs": [],
   "source": [
    "ea = pd.read_table('ea.txt', sep='|')\n",
    "ea = ea.rename(columns={a:a.strip() for a in list(ea.columns)})"
   ]
  },
  {
   "cell_type": "code",
   "execution_count": null,
   "metadata": {},
   "outputs": [],
   "source": [
    "p26 = pd.read_table('p26.txt', sep='|')\n",
    "p26 = p26.rename(columns={a:a.strip() for a in list(p26.columns)})"
   ]
  },
  {
   "cell_type": "code",
   "execution_count": null,
   "metadata": {},
   "outputs": [],
   "source": [
    "pna = pd.read_table('pna.txt', sep='|')\n",
    "pna = pna.rename(columns={a:a.strip() for a in list(pna.columns)})"
   ]
  },
  {
   "cell_type": "code",
   "execution_count": null,
   "metadata": {},
   "outputs": [],
   "source": [
    "df3 = pd.read_table('BTA_F_3.dat', sep='|')\n",
    "df3 = df3.rename(columns={a:a.strip() for a in list(df3.columns)})"
   ]
  },
  {
   "cell_type": "code",
   "execution_count": null,
   "metadata": {},
   "outputs": [],
   "source": [
    "df33 = pd.read_table('nearby_star_pm_anomalies_plx33.dat', sep='|')\n",
    "df33 = df33.rename(columns={a:a.strip() for a in list(df33.columns)})"
   ]
  },
  {
   "cell_type": "code",
   "execution_count": null,
   "metadata": {},
   "outputs": [],
   "source": [
    "df = df3.merge(df33[['source_id', 'ra','dec']], left_on = 'Name', right_on = 'source_id')\n",
    "df"
   ]
  },
  {
   "cell_type": "code",
   "execution_count": null,
   "metadata": {},
   "outputs": [],
   "source": [
    "def plate_finding(df1, df2, FOV, outfile):\n",
    "    \n",
    "    for i, row1 in df1.iterrows():\n",
    "        outfile.write('----------------------------------------------------------------------\\n')\n",
    "        outfile.write(str(row1.Name)+' '+str(row1.ra)+' '+str(row1.dec)+'\\n')\n",
    "        #print('----------------------------------------------------------------------')\n",
    "        #print(row1.Name, row1.ra, row1.dec)\n",
    "        c1 = SkyCoord(row1.ra, row1.dec, frame='icrs', unit='deg')\n",
    "        for j, row2 in df2.iterrows():\n",
    "            c2 = SkyCoord(row2['ra[deg]'], row2['dec[deg]'], frame='icrs', unit='deg')\n",
    "            sep = c1.separation(c2).degree\n",
    "            if float(sep) < FOV:\n",
    "                outfile.write(str(row2['#  plateID'])+' '+str(row2['ra[deg]'])+' '+str(row2['dec[deg]'])+'\\n')\n",
    "                #print(row2['#  plateID'], row2['ra[deg]'], row2['dec[deg]'])\n",
    "    outfile.write('----------------------------------------------------------------------\\n')\n",
    "        \n",
    "    "
   ]
  },
  {
   "cell_type": "code",
   "execution_count": null,
   "metadata": {},
   "outputs": [],
   "source": [
    "outfile = open ('plate_findind.dat', 'w')\n",
    "outfile.write('Expeditionary Astrograph\\n')\n",
    "FOV = 2.5+0.5\n",
    "df1 = df\n",
    "df2 = ea\n",
    "plate_finding(df1, df2, FOV, outfile)\n",
    "outfile.close()"
   ]
  },
  {
   "cell_type": "code",
   "execution_count": null,
   "metadata": {},
   "outputs": [],
   "source": [
    "outfile = open ('plate_findind.dat', 'a')\n",
    "outfile.write('\\n')\n",
    "outfile.write('26-refractor\\n')\n",
    "FOV = 0.6\n",
    "df1 = df\n",
    "df2 = p26\n",
    "plate_finding(df1, df2, FOV, outfile)\n",
    "outfile.close()"
   ]
  },
  {
   "cell_type": "code",
   "execution_count": null,
   "metadata": {},
   "outputs": [],
   "source": [
    "outfile = open ('plate_findind.dat', 'a')\n",
    "outfile.write('\\n')\n",
    "outfile.write('Normal Astrograph\\n')\n",
    "FOV = 1.0+0.5\n",
    "df1 = df\n",
    "df2 = pna\n",
    "plate_finding(df1, df2, FOV, outfile)\n",
    "outfile.close()"
   ]
  },
  {
   "cell_type": "code",
   "execution_count": null,
   "metadata": {},
   "outputs": [],
   "source": []
  }
 ],
 "metadata": {
  "kernelspec": {
   "display_name": "Python 3",
   "language": "python",
   "name": "python3"
  },
  "language_info": {
   "codemirror_mode": {
    "name": "ipython",
    "version": 3
   },
   "file_extension": ".py",
   "mimetype": "text/x-python",
   "name": "python",
   "nbconvert_exporter": "python",
   "pygments_lexer": "ipython3",
   "version": "3.8.3"
  },
  "varInspector": {
   "cols": {
    "lenName": 16,
    "lenType": 16,
    "lenVar": 40
   },
   "kernels_config": {
    "python": {
     "delete_cmd_postfix": "",
     "delete_cmd_prefix": "del ",
     "library": "var_list.py",
     "varRefreshCmd": "print(var_dic_list())"
    },
    "r": {
     "delete_cmd_postfix": ") ",
     "delete_cmd_prefix": "rm(",
     "library": "var_list.r",
     "varRefreshCmd": "cat(var_dic_list()) "
    }
   },
   "types_to_exclude": [
    "module",
    "function",
    "builtin_function_or_method",
    "instance",
    "_Feature"
   ],
   "window_display": false
  }
 },
 "nbformat": 4,
 "nbformat_minor": 4
}
