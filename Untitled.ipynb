{
 "cells": [
  {
   "cell_type": "code",
   "execution_count": null,
   "metadata": {},
   "outputs": [],
   "source": [
    "298.239625, -9.954028\n",
    "298.15775, -9.969778\n",
    "298.145625, -11.972444\n",
    "300.14325, -9.97075\n",
    "300.144292, -11.970889\n",
    "72.155875, -9.977528\n",
    "74.15575, -9.979972\n",
    "74.13225, -9.982972\n",
    "258.137125, 9.986694\n",
    "260.1235, 9.989972"
   ]
  },
  {
   "cell_type": "code",
   "execution_count": 4,
   "metadata": {},
   "outputs": [],
   "source": [
    "from astropy.coordinates import SkyCoord \n",
    "from astropy import units as u"
   ]
  },
  {
   "cell_type": "code",
   "execution_count": 19,
   "metadata": {},
   "outputs": [
    {
     "data": {
      "text/plain": [
       "(hms_tuple(h=17.0, m=20.0, s=29.64000000000766),\n",
       " dms_tuple(d=9.0, m=59.0, s=23.899199999999468))"
      ]
     },
     "execution_count": 19,
     "metadata": {},
     "output_type": "execute_result"
    }
   ],
   "source": [
    "a, d = 260.1235, 9.989972\n",
    "c = SkyCoord(a, d, unit=\"deg\")\n",
    "with open('file.txt', 'a') as f:\n",
    "    f.write(str(c.ra.hms)+str(c.dec.dms)+'\\n')\n",
    "c.ra.hms, c.dec.dms  "
   ]
  },
  {
   "cell_type": "code",
   "execution_count": 9,
   "metadata": {},
   "outputs": [
    {
     "data": {
      "text/plain": [
       "'hms_tuple(h=19.0, m=52.0, s=57.510000000005164)'"
      ]
     },
     "execution_count": 9,
     "metadata": {},
     "output_type": "execute_result"
    }
   ],
   "source": [
    "str(c.ra.hms)"
   ]
  },
  {
   "cell_type": "code",
   "execution_count": null,
   "metadata": {},
   "outputs": [],
   "source": [
    "s = open('file.txt', 'a')"
   ]
  }
 ],
 "metadata": {
  "kernelspec": {
   "display_name": "Python 3",
   "language": "python",
   "name": "python3"
  },
  "language_info": {
   "codemirror_mode": {
    "name": "ipython",
    "version": 3
   },
   "file_extension": ".py",
   "mimetype": "text/x-python",
   "name": "python",
   "nbconvert_exporter": "python",
   "pygments_lexer": "ipython3",
   "version": "3.8.10"
  }
 },
 "nbformat": 4,
 "nbformat_minor": 4
}
