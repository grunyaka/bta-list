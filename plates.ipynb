{
 "cells": [
  {
   "cell_type": "code",
   "execution_count": 1,
   "metadata": {},
   "outputs": [
    {
     "name": "stderr",
     "output_type": "stream",
     "text": [
      "WARNING: WrongDBMModuleWarning: Existing astropy cache is in an unsupported format, either install the appropriate package or use astropy.utils.data.clear_download_cache() to delete the whole cache; db type is dbm.gnu, but the module is not available [astropy.utils.data]\n",
      "WARNING: leap-second auto-update failed due to the following exception: WrongDBMModule('Existing astropy cache is in an unsupported format, either install the appropriate package or use astropy.utils.data.clear_download_cache() to delete the whole cache; db type is dbm.gnu, but the module is not available') [astropy.time.core]\n"
     ]
    }
   ],
   "source": [
    "import pandas as pd\n",
    "from astropy import units as u\n",
    "from astropy.coordinates import SkyCoord"
   ]
  },
  {
   "cell_type": "code",
   "execution_count": null,
   "metadata": {},
   "outputs": [],
   "source": [
    "ea = pd.read_table('ea.txt', sep='|')\n",
    "ea = ea.rename(columns={a:a.strip() for a in list(ea.columns)})\n",
    "p26 = pd.read_table('p26.txt', sep='|')\n",
    "p26 = p26.rename(columns={a:a.strip() for a in list(p26.columns)})\n",
    "pna = pd.read_table('pna.txt', sep='|')\n",
    "pna = pna.rename(columns={a:a.strip() for a in list(pna.columns)})"
   ]
  },
  {
   "cell_type": "code",
   "execution_count": null,
   "metadata": {},
   "outputs": [],
   "source": [
    "ea.columns"
   ]
  },
  {
   "cell_type": "code",
   "execution_count": null,
   "metadata": {},
   "outputs": [],
   "source": [
    "number = '07051'\n",
    "\n",
    "\n",
    "df, prefix = p26, 'P26_'\n",
    "df, prefix = ea, 'EA'\n",
    "df, prefix = pna, 'PNA_'\n",
    "\n",
    "for i, row in df.iterrows():\n",
    "    if number in row['#  plateID']:\n",
    "        print(row['#  plateID'], row['yymmdd'], row['ra[hms]'], row['dec[dms]'] )"
   ]
  },
  {
   "cell_type": "code",
   "execution_count": null,
   "metadata": {},
   "outputs": [],
   "source": [
    "with open('plates_n.txt', 'a') as f:\n",
    "    f.write(prefix+number+'\\n')\n",
    "plates = list(pd.read_csv('plates_n.txt', header=None).iloc[:,0])\n",
    "plates[-1]"
   ]
  },
  {
   "cell_type": "code",
   "execution_count": null,
   "metadata": {},
   "outputs": [],
   "source": [
    "plates = list(pd.read_csv('plates_n.txt', header=None).iloc[:,0])\n",
    "len(plates)"
   ]
  },
  {
   "cell_type": "code",
   "execution_count": null,
   "metadata": {},
   "outputs": [],
   "source": [
    "sorted(plates)"
   ]
  },
  {
   "cell_type": "code",
   "execution_count": null,
   "metadata": {},
   "outputs": [],
   "source": [
    "for i, a in enumerate(plates):\n",
    "    for b in plates[i+1:]:\n",
    "        if a==b:\n",
    "            print(i)"
   ]
  },
  {
   "cell_type": "code",
   "execution_count": null,
   "metadata": {},
   "outputs": [],
   "source": [
    "j = 0\n",
    "for a in plates:\n",
    "    if 'PNA_09' in a:\n",
    "        j+=1\n",
    "j"
   ]
  },
  {
   "cell_type": "code",
   "execution_count": null,
   "metadata": {},
   "outputs": [],
   "source": [
    "len(plates)"
   ]
  },
  {
   "cell_type": "code",
   "execution_count": 5,
   "metadata": {},
   "outputs": [
    {
     "data": {
      "text/plain": [
       "['EA03836',\n",
       " 'EA14607',\n",
       " 'EA14631',\n",
       " 'EA14660',\n",
       " 'EA14724',\n",
       " 'EA15106',\n",
       " 'EA15301',\n",
       " 'EA15315',\n",
       " 'EA15347',\n",
       " 'EA15853',\n",
       " 'EA16060',\n",
       " 'EA16159',\n",
       " 'EA16160',\n",
       " 'EA16222',\n",
       " 'EA16746',\n",
       " 'EA16847',\n",
       " 'PNA_04929',\n",
       " 'PNA_05052',\n",
       " 'PNA_05259',\n",
       " 'PNA_05807',\n",
       " 'PNA_05881',\n",
       " 'PNA_06195',\n",
       " 'PNA_06293',\n",
       " 'PNA_06329',\n",
       " 'PNA_07051',\n",
       " 'PNA_07052',\n",
       " 'PNA_07065',\n",
       " 'PNA_07073',\n",
       " 'PNA_07089',\n",
       " 'PNA_07289',\n",
       " 'PNA_07334',\n",
       " 'PNA_08099',\n",
       " 'PNA_08100',\n",
       " 'PNA_08103',\n",
       " 'PNA_08115',\n",
       " 'PNA_08310',\n",
       " 'PNA_08311',\n",
       " 'PNA_08312',\n",
       " 'PNA_08466',\n",
       " 'PNA_08471',\n",
       " 'PNA_08498',\n",
       " 'PNA_08507',\n",
       " 'PNA_08658',\n",
       " 'PNA_08699',\n",
       " 'PNA_08702',\n",
       " 'PNA_09157',\n",
       " 'PNA_09158',\n",
       " 'PNA_09302',\n",
       " 'PNA_09303',\n",
       " 'PNA_09304',\n",
       " 'PNA_09305',\n",
       " 'PNA_09311',\n",
       " 'PNA_09312',\n",
       " 'PNA_10041',\n",
       " 'PNA_10063',\n",
       " 'PNA_10752',\n",
       " 'PNA_11800',\n",
       " 'PNA_12962',\n",
       " 'PNA_13016',\n",
       " 'PNA_13414',\n",
       " 'PNA_13695',\n",
       " 'PNA_13696',\n",
       " 'PNA_13978',\n",
       " 'PNA_C0737',\n",
       " 'PNA_C0759',\n",
       " 'PNA_C0888',\n",
       " 'PNA_C0948',\n",
       " 'PNA_C0950',\n",
       " 'PNA_D0013',\n",
       " 'PNA_D0014',\n",
       " 'PNA_D0039',\n",
       " 'PNA_D0040',\n",
       " 'PNA_D0041',\n",
       " 'PNA_D0052',\n",
       " 'PNA_D0053',\n",
       " 'PNA_D0059',\n",
       " 'PNA_D0060',\n",
       " 'PNA_D0074',\n",
       " 'PNA_D0075',\n",
       " 'PNA_D0076',\n",
       " 'PNA_D0077',\n",
       " 'PNA_D0253',\n",
       " 'PNA_D0271',\n",
       " 'PNA_D0312',\n",
       " 'PNA_D0497',\n",
       " 'PNA_D0873',\n",
       " 'PNA_D0879',\n",
       " 'PNA_D0889',\n",
       " 'PNA_D0915',\n",
       " 'PNA_K0050',\n",
       " 'PNA_K0053',\n",
       " 'PNA_K0057',\n",
       " 'PNA_K0178',\n",
       " 'PNA_K0179',\n",
       " 'PNA_K0557',\n",
       " 'PNA_K0569',\n",
       " 'PNA_K0676',\n",
       " 'PNA_K0732']"
      ]
     },
     "execution_count": 5,
     "metadata": {},
     "output_type": "execute_result"
    }
   ],
   "source": [
    "plates = sorted(list(pd.read_csv('plates_n.txt', header=None).iloc[:,0]))\n",
    "with open('sorted_plates.txt', 'w') as f:\n",
    "    f.writelines(plates)\n",
    "plates"
   ]
  },
  {
   "cell_type": "code",
   "execution_count": null,
   "metadata": {},
   "outputs": [],
   "source": []
  }
 ],
 "metadata": {
  "kernelspec": {
   "display_name": "Python 3",
   "language": "python",
   "name": "python3"
  },
  "language_info": {
   "codemirror_mode": {
    "name": "ipython",
    "version": 3
   },
   "file_extension": ".py",
   "mimetype": "text/x-python",
   "name": "python",
   "nbconvert_exporter": "python",
   "pygments_lexer": "ipython3",
   "version": "3.8.3"
  },
  "varInspector": {
   "cols": {
    "lenName": 16,
    "lenType": 16,
    "lenVar": 40
   },
   "kernels_config": {
    "python": {
     "delete_cmd_postfix": "",
     "delete_cmd_prefix": "del ",
     "library": "var_list.py",
     "varRefreshCmd": "print(var_dic_list())"
    },
    "r": {
     "delete_cmd_postfix": ") ",
     "delete_cmd_prefix": "rm(",
     "library": "var_list.r",
     "varRefreshCmd": "cat(var_dic_list()) "
    }
   },
   "types_to_exclude": [
    "module",
    "function",
    "builtin_function_or_method",
    "instance",
    "_Feature"
   ],
   "window_display": false
  }
 },
 "nbformat": 4,
 "nbformat_minor": 4
}
