{
 "cells": [
  {
   "cell_type": "code",
   "execution_count": null,
   "metadata": {},
   "outputs": [],
   "source": [
    "import pandas as pd\n",
    "from astropy import units as u\n",
    "from astropy.coordinates import SkyCoord"
   ]
  },
  {
   "cell_type": "code",
   "execution_count": null,
   "metadata": {},
   "outputs": [],
   "source": [
    "ea = pd.read_table('ea.txt', sep='|')\n",
    "ea = ea.rename(columns={a:a.strip() for a in list(ea.columns)})\n",
    "p26 = pd.read_table('p26.txt', sep='|')\n",
    "p26 = p26.rename(columns={a:a.strip() for a in list(p26.columns)})\n",
    "pna = pd.read_table('pna.txt', sep='|')\n",
    "pna = pna.rename(columns={a:a.strip() for a in list(pna.columns)})"
   ]
  },
  {
   "cell_type": "code",
   "execution_count": null,
   "metadata": {},
   "outputs": [],
   "source": [
    "ea.columns"
   ]
  },
  {
   "cell_type": "code",
   "execution_count": null,
   "metadata": {},
   "outputs": [],
   "source": [
    "number = '07051'\n",
    "\n",
    "\n",
    "df, prefix = p26, 'P26_'\n",
    "df, prefix = ea, 'EA'\n",
    "df, prefix = pna, 'PNA_'\n",
    "\n",
    "for i, row in df.iterrows():\n",
    "    if number in row['#  plateID']:\n",
    "        print(row['#  plateID'], row['yymmdd'], row['ra[hms]'], row['dec[dms]'] )"
   ]
  },
  {
   "cell_type": "code",
   "execution_count": null,
   "metadata": {},
   "outputs": [],
   "source": [
    "with open('plates_n.txt', 'a') as f:\n",
    "    f.write(prefix+number+'\\n')\n",
    "plates = list(pd.read_csv('plates_n.txt', header=None).iloc[:,0])\n",
    "plates[-1]"
   ]
  },
  {
   "cell_type": "code",
   "execution_count": null,
   "metadata": {},
   "outputs": [],
   "source": [
    "plates = list(pd.read_csv('plates_n.txt', header=None).iloc[:,0])\n",
    "len(plates)"
   ]
  },
  {
   "cell_type": "code",
   "execution_count": null,
   "metadata": {},
   "outputs": [],
   "source": [
    "sorted(plates)"
   ]
  },
  {
   "cell_type": "code",
   "execution_count": null,
   "metadata": {},
   "outputs": [],
   "source": [
    "for i, a in enumerate(plates):\n",
    "    for b in plates[i+1:]:\n",
    "        if a==b:\n",
    "            print(i)"
   ]
  },
  {
   "cell_type": "code",
   "execution_count": null,
   "metadata": {},
   "outputs": [],
   "source": [
    "j = 0\n",
    "for a in plates:\n",
    "    if 'PNA_09' in a:\n",
    "        j+=1\n",
    "j"
   ]
  },
  {
   "cell_type": "code",
   "execution_count": null,
   "metadata": {},
   "outputs": [],
   "source": [
    "len(plates)"
   ]
  },
  {
   "cell_type": "code",
   "execution_count": null,
   "metadata": {},
   "outputs": [],
   "source": [
    "plates = [a+'\\n' for a in sorted(list(pd.read_csv('plates_n.txt', header=None).iloc[:,0]))]\n",
    "\n",
    "with open('sorted_plates.txt', 'w') as f:\n",
    "    f.writelines(plates)"
   ]
  },
  {
   "cell_type": "code",
   "execution_count": null,
   "metadata": {},
   "outputs": [],
   "source": []
  }
 ],
 "metadata": {
  "kernelspec": {
   "display_name": "Python 3",
   "language": "python",
   "name": "python3"
  },
  "language_info": {
   "codemirror_mode": {
    "name": "ipython",
    "version": 3
   },
   "file_extension": ".py",
   "mimetype": "text/x-python",
   "name": "python",
   "nbconvert_exporter": "python",
   "pygments_lexer": "ipython3",
   "version": "3.8.3"
  },
  "varInspector": {
   "cols": {
    "lenName": 16,
    "lenType": 16,
    "lenVar": 40
   },
   "kernels_config": {
    "python": {
     "delete_cmd_postfix": "",
     "delete_cmd_prefix": "del ",
     "library": "var_list.py",
     "varRefreshCmd": "print(var_dic_list())"
    },
    "r": {
     "delete_cmd_postfix": ") ",
     "delete_cmd_prefix": "rm(",
     "library": "var_list.r",
     "varRefreshCmd": "cat(var_dic_list()) "
    }
   },
   "types_to_exclude": [
    "module",
    "function",
    "builtin_function_or_method",
    "instance",
    "_Feature"
   ],
   "window_display": false
  }
 },
 "nbformat": 4,
 "nbformat_minor": 4
}
